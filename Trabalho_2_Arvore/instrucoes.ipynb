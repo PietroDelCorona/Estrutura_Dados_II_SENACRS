{
 "cells": [
  {
   "cell_type": "markdown",
   "metadata": {},
   "source": [
    "<h3>Instruções do Trabalho 2 - Construindo Árvore Binária</h3>"
   ]
  },
  {
   "cell_type": "markdown",
   "metadata": {},
   "source": [
    "Após o entendimento do funcionamento da árvore, é preciso implementá-la. A implementação pode ser uma \n",
    "adaptação de uma implementação pronta, mas deve seguir o “padrão” trabalhado em aula, isto é, \n",
    "deve ser implementada uma árvore binária de pesquisa para armazenar números inteiros. \n",
    "\n",
    "O TAD também deve seguir o padrão de TAD visto em aula (disponível no dia 22/11) para árvores binárias de\n",
    "modo a implementar os seguintes métodos:\n",
    "\n",
    "    • Adicionar elementos na árvore: insert(key);\n",
    "\n",
    "    • Retornar o pai de um elemento: get_father(key);\n",
    "\n",
    "    • Verificar qual é a altura da árvore: height();\n",
    "\n",
    "    • Verificar quantos elementos tem na árvore, retornando um inteiro: size();\n",
    "\n",
    "    • Verificar se a árvore está vazia ou não, retornando um booleano: is_empty();\n",
    "    \n",
    "    • Retornar os elementos da árvore em uma lista usando (pelo menos) dois diferentes caminhamentos: pre_ordem,\n",
    "    in_ordem, pos_ordem e largura;\n",
    "\n",
    "Para o funcionamento correto da proposta do trabalho, a implementação de métodos adicionais aos descritos acima pode\n",
    "se fazer necessária. "
   ]
  },
  {
   "cell_type": "markdown",
   "metadata": {},
   "source": [
    "Além da implementação da classe da árvore, é preciso implementar um método main que instancie a árvore\n",
    "implementada e chame os métodos implementados (de acordo com o Conceito alvo – veja abaixo Critérios de\n",
    "Avaliação – Seção 5 deste documento) para verificar o seu correto funcionamento. Para isto, é obrigatório ter\n",
    "os seguintes comandos no método main (nesta ordem):\n",
    "\n",
    "• Instanciar a primeira árvore;\n",
    "\n",
    "    • Incluir os números 1,2,3,4,5,6,7,8,9, nesta ordem, na árvore;\n",
    "\n",
    "    • Apresentar a altura da árvore;\n",
    "\n",
    "    • Apresentar a quantidade de nodos da árvore;\n",
    "\n",
    "    • Apresentar o conteúdo da árvore usando um caminhamento;\n",
    "\n",
    "• Instanciar a segunda árvore;\n",
    "\n",
    "    • Incluir os números 9,8,7,6,5,4,3,2,1, nesta ordem, na árvore;\n",
    "\n",
    "    • Apresentar a altura da árvore;\n",
    "\n",
    "    • Apresentar a quantidade de nodos da árvore;\n",
    "\n",
    "    • Apresentar o conteúdo da árvore usando um caminhamento;\n",
    "\n",
    "• Instanciar a terceira árvore;\n",
    "\n",
    "    • Não incluir nenhum elemento;\n",
    "\n",
    "    • Apresentar a altura da árvore;\n",
    "\n",
    "    • Apresentar a quantidade de nodos da árvore;\n",
    "        \n",
    "    • Apresentar o conteúdo da árvore usando um caminhamento;"
   ]
  },
  {
   "cell_type": "markdown",
   "metadata": {},
   "source": [
    "Após terminar a implementação, cada aluno (a) ou dupla deverá elaborar um relatório para explicar o\n",
    "funcionamento da árvore estudada e os algoritmos implementados. Este relatório deve conter no início, como\n",
    "título, o nome da árvore implementada, seguido dos nomes dos alunos. Deve ser usado espaçamento simples e\n",
    "fonte tamanho 12, sendo que o número de páginas deve ser entre 3 e 4, incluindo figuras para ilustrar o\n",
    "funcionamento dos algoritmos e referências para todos os sites, livros, artigos e ferramentas consultados."
   ]
  }
 ],
 "metadata": {
  "language_info": {
   "name": "python"
  }
 },
 "nbformat": 4,
 "nbformat_minor": 2
}
